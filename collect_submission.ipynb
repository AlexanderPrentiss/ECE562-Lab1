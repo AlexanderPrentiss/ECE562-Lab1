{
 "cells": [
  {
   "cell_type": "code",
   "execution_count": null,
   "metadata": {
    "colab": {
     "base_uri": "https://localhost:8080/"
    },
    "executionInfo": {
     "elapsed": 3892,
     "status": "ok",
     "timestamp": 1663332716745,
     "user": {
      "displayName": "Victor Cruz",
      "userId": "09145805500684165918"
     },
     "user_tz": 180
    },
    "id": "XH9z10WBIgrr",
    "outputId": "447148c5-bda0-4d3b-a92c-e9807e83dd5a"
   },
   "outputs": [
    {
     "ename": "ModuleNotFoundError",
     "evalue": "No module named 'google.colab'",
     "output_type": "error",
     "traceback": [
      "\u001b[31m---------------------------------------------------------------------------\u001b[39m",
      "\u001b[31mModuleNotFoundError\u001b[39m                       Traceback (most recent call last)",
      "\u001b[36mCell\u001b[39m\u001b[36m \u001b[39m\u001b[32mIn[1]\u001b[39m\u001b[32m, line 1\u001b[39m\n\u001b[32m----> \u001b[39m\u001b[32m1\u001b[39m \u001b[38;5;28;01mfrom\u001b[39;00m\u001b[38;5;250m \u001b[39m\u001b[34;01mgoogle\u001b[39;00m\u001b[34;01m.\u001b[39;00m\u001b[34;01mcolab\u001b[39;00m\u001b[38;5;250m \u001b[39m\u001b[38;5;28;01mimport\u001b[39;00m drive\n\u001b[32m      3\u001b[39m drive.mount(\u001b[33m'\u001b[39m\u001b[33m/content/drive\u001b[39m\u001b[33m'\u001b[39m, force_remount=\u001b[38;5;28;01mTrue\u001b[39;00m)\n\u001b[32m      5\u001b[39m \u001b[38;5;66;03m# enter the path in your Drive of the assignment\u001b[39;00m\n\u001b[32m      6\u001b[39m \u001b[38;5;66;03m# e.g. 'ece697ls/assignments/assignment1/'\u001b[39;00m\n",
      "\u001b[31mModuleNotFoundError\u001b[39m: No module named 'google.colab'"
     ]
    }
   ],
   "source": [
    "# from google.colab import drive\n",
    "\n",
    "# drive.mount('/content/drive', force_remount=True)\n",
    "\n",
    "# enter the path in your Drive of the assignment\n",
    "# e.g. 'ece697ls/assignments/assignment1/'\n",
    "FOLDERNAME = \"/Users/alexprentiss/Developer/School/ECE-562/assignment1_colab/assignment1\"\n",
    "\n",
    "assert FOLDERNAME is not None, \"[!] Enter the foldername.\""
   ]
  },
  {
   "cell_type": "markdown",
   "metadata": {
    "id": "DPLBFTSxIgru"
   },
   "source": [
    "# Collect Submission - Zip + Generate PDF \n",
    "\n",
    "Run this notebook once you have completed all the other notebooks (Q1-Q6)\n",
    "\n",
    "It will:\n",
    "\n",
    "* Generate a zip file of your code (`.py` and `.ipynb`) called `a2.zip`.\n",
    "* Convert all notebooks into a single PDF file called `assignment.pdf`.\n",
    "\n",
    "If your submission for this step was successful, you should see the following display message:\n",
    "\n",
    "`### Done! Please submit a2.zip and the pdfs to Gradescope. ###`\n",
    "\n",
    "Make sure to download the zip and pdf file locally to your computer, then submit to Gradescope. Congrats on succesfully completing the assignment!"
   ]
  },
  {
   "cell_type": "code",
   "execution_count": 2,
   "metadata": {
    "colab": {
     "base_uri": "https://localhost:8080/"
    },
    "executionInfo": {
     "elapsed": 202374,
     "status": "ok",
     "timestamp": 1663332919115,
     "user": {
      "displayName": "Victor Cruz",
      "userId": "09145805500684165918"
     },
     "user_tz": 180
    },
    "id": "z7H7Ilx8Igrw",
    "outputId": "89ece8ac-195d-4654-a7d5-3aac4e0a218f"
   },
   "outputs": [
    {
     "name": "stdout",
     "output_type": "stream",
     "text": [
      "/content/drive/My Drive/Sandip/assignment1_colab_solved/assignment1\n",
      "Reading package lists... Done\n",
      "Building dependency tree       \n",
      "Reading state information... Done\n",
      "texlive-fonts-recommended is already the newest version (2017.20180305-1).\n",
      "texlive-generic-recommended is already the newest version (2017.20180305-1).\n",
      "texlive-xetex is already the newest version (2017.20180305-1).\n",
      "The following package was automatically installed and is no longer required:\n",
      "  libnvidia-common-460\n",
      "Use 'sudo apt autoremove' to remove it.\n",
      "0 upgraded, 0 newly installed, 0 to remove and 20 not upgraded.\n",
      "Looking in indexes: https://pypi.org/simple, https://us-python.pkg.dev/colab-wheels/public/simple/\n",
      "Requirement already satisfied: PyPDF2 in /usr/local/lib/python3.7/dist-packages (2.10.8)\n",
      "Requirement already satisfied: typing-extensions>=3.10.0.0 in /usr/local/lib/python3.7/dist-packages (from PyPDF2) (4.1.1)\n",
      "### Zipping file ###\n",
      "### Creating PDFs ###\n",
      "Created PDF Q1-FCNetworks.ipynb.\n",
      "Created PDF Q2-BatchNorm.ipynb.\n",
      "Created PDF Q3-Dropout.ipynb.\n",
      "Created PDF Q4-CNNs.ipynb.\n",
      "Created PDF Q5-Pytorch.ipynb.\n",
      "Created PDF Q5-Tensorflow.ipynb.\n",
      "Created PDF Q6-Pruning.ipynb.\n",
      "### Done! Please submit a1.zip and the pdfs to Gradescope. ###\n"
     ]
    }
   ],
   "source": [
    "%cd drive/My\\ Drive/$FOLDERNAME\n",
    "!sudo apt-get install texlive-xetex texlive-fonts-recommended texlive-generic-recommended\n",
    "!pip install PyPDF2\n",
    "!bash collectSubmission.sh"
   ]
  }
 ],
 "metadata": {
  "colab": {
   "provenance": [],
   "toc_visible": true
  },
  "kernelspec": {
   "display_name": "ECE562-3-11",
   "language": "python",
   "name": "python3"
  },
  "language_info": {
   "codemirror_mode": {
    "name": "ipython",
    "version": 3
   },
   "file_extension": ".py",
   "mimetype": "text/x-python",
   "name": "python",
   "nbconvert_exporter": "python",
   "pygments_lexer": "ipython3",
   "version": "3.11.13"
  }
 },
 "nbformat": 4,
 "nbformat_minor": 0
}
